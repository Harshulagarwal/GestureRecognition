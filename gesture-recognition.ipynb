{
 "cells": [
  {
   "cell_type": "markdown",
   "id": "214b5536",
   "metadata": {
    "papermill": {
     "duration": 0.024963,
     "end_time": "2022-05-16T17:10:08.354513",
     "exception": false,
     "start_time": "2022-05-16T17:10:08.329550",
     "status": "completed"
    },
    "tags": []
   },
   "source": [
    "# Gesture Recognition"
   ]
  },
  {
   "cell_type": "code",
   "execution_count": 1,
   "id": "e3a896a7",
   "metadata": {
    "execution": {
     "iopub.execute_input": "2022-05-16T17:10:08.401583Z",
     "iopub.status.busy": "2022-05-16T17:10:08.400535Z",
     "iopub.status.idle": "2022-05-16T17:10:09.821929Z",
     "shell.execute_reply": "2022-05-16T17:10:09.820835Z"
    },
    "papermill": {
     "duration": 1.447736,
     "end_time": "2022-05-16T17:10:09.824636",
     "exception": false,
     "start_time": "2022-05-16T17:10:08.376900",
     "status": "completed"
    },
    "tags": []
   },
   "outputs": [],
   "source": [
    "import numpy as np\n",
    "import os\n",
    "from imageio import imread\n",
    "import datetime\n",
    "import os\n",
    "from skimage.transform import resize\n",
    "import matplotlib.pyplot as plt\n",
    "%matplotlib inline"
   ]
  },
  {
   "cell_type": "markdown",
   "id": "ccc92af3",
   "metadata": {
    "papermill": {
     "duration": 0.025559,
     "end_time": "2022-05-16T17:10:09.875847",
     "exception": false,
     "start_time": "2022-05-16T17:10:09.850288",
     "status": "completed"
    },
    "tags": []
   },
   "source": [
    "We set the random seed so that the results don't vary drastically."
   ]
  },
  {
   "cell_type": "code",
   "execution_count": 2,
   "id": "1c0d5f82",
   "metadata": {
    "execution": {
     "iopub.execute_input": "2022-05-16T17:10:09.927479Z",
     "iopub.status.busy": "2022-05-16T17:10:09.926958Z",
     "iopub.status.idle": "2022-05-16T17:10:15.946206Z",
     "shell.execute_reply": "2022-05-16T17:10:15.945165Z"
    },
    "papermill": {
     "duration": 6.047525,
     "end_time": "2022-05-16T17:10:15.948542",
     "exception": false,
     "start_time": "2022-05-16T17:10:09.901017",
     "status": "completed"
    },
    "tags": []
   },
   "outputs": [],
   "source": [
    "np.random.seed(30)\n",
    "import random as rn\n",
    "rn.seed(30)\n",
    "from keras import backend as K\n",
    "import tensorflow as tf\n",
    "tf.random.set_seed(30)"
   ]
  },
  {
   "cell_type": "markdown",
   "id": "13f1dbe7",
   "metadata": {
    "papermill": {
     "duration": 0.02111,
     "end_time": "2022-05-16T17:10:15.992654",
     "exception": false,
     "start_time": "2022-05-16T17:10:15.971544",
     "status": "completed"
    },
    "tags": []
   },
   "source": [
    "In this block, you read the folder names for training and validation. You also set the `batch_size` here. Note that you set the batch size in such a way that you are able to use the GPU in full capacity. You keep increasing the batch size until the machine throws an error."
   ]
  },
  {
   "cell_type": "code",
   "execution_count": 3,
   "id": "7e487157",
   "metadata": {
    "execution": {
     "iopub.execute_input": "2022-05-16T17:10:16.037172Z",
     "iopub.status.busy": "2022-05-16T17:10:16.036939Z",
     "iopub.status.idle": "2022-05-16T17:10:16.069040Z",
     "shell.execute_reply": "2022-05-16T17:10:16.068174Z"
    },
    "papermill": {
     "duration": 0.056382,
     "end_time": "2022-05-16T17:10:16.070985",
     "exception": false,
     "start_time": "2022-05-16T17:10:16.014603",
     "status": "completed"
    },
    "tags": []
   },
   "outputs": [],
   "source": [
    "train_doc = np.random.permutation(open('../input/gesture-detection/Project_data/train.csv').readlines())\n",
    "val_doc = np.random.permutation(open('../input/gesture-detection/Project_data/val.csv').readlines())\n",
    "train_path = '../input/gesture-detection/Project_data/train'\n",
    "val_path = '../input/gesture-detection/Project_data/val'\n",
    "batch_size = 40"
   ]
  },
  {
   "cell_type": "markdown",
   "id": "4eced6c2",
   "metadata": {
    "papermill": {
     "duration": 0.022017,
     "end_time": "2022-05-16T17:10:16.116883",
     "exception": false,
     "start_time": "2022-05-16T17:10:16.094866",
     "status": "completed"
    },
    "tags": []
   },
   "source": [
    "## Generator\n",
    "This is one of the most important part of the code. The overall structure of the generator has been given. In the generator, you are going to preprocess the images as you have images of 2 different dimensions as well as create a batch of video frames. You have to experiment with `img_idx`, `y`,`z` and normalization such that you get high accuracy."
   ]
  },
  {
   "cell_type": "code",
   "execution_count": 4,
   "id": "e0a903da",
   "metadata": {
    "execution": {
     "iopub.execute_input": "2022-05-16T17:10:16.163019Z",
     "iopub.status.busy": "2022-05-16T17:10:16.162273Z",
     "iopub.status.idle": "2022-05-16T17:10:16.167924Z",
     "shell.execute_reply": "2022-05-16T17:10:16.167025Z"
    },
    "papermill": {
     "duration": 0.031047,
     "end_time": "2022-05-16T17:10:16.170109",
     "exception": false,
     "start_time": "2022-05-16T17:10:16.139062",
     "status": "completed"
    },
    "tags": []
   },
   "outputs": [],
   "source": [
    "imagesize_y=120\n",
    "imagesize_z=120"
   ]
  },
  {
   "cell_type": "code",
   "execution_count": 5,
   "id": "8db169e7",
   "metadata": {
    "execution": {
     "iopub.execute_input": "2022-05-16T17:10:16.216208Z",
     "iopub.status.busy": "2022-05-16T17:10:16.215960Z",
     "iopub.status.idle": "2022-05-16T17:10:16.240577Z",
     "shell.execute_reply": "2022-05-16T17:10:16.239539Z"
    },
    "papermill": {
     "duration": 0.050091,
     "end_time": "2022-05-16T17:10:16.242800",
     "exception": false,
     "start_time": "2022-05-16T17:10:16.192709",
     "status": "completed"
    },
    "tags": []
   },
   "outputs": [],
   "source": [
    "def generator(input_path, list_folders, batch_size):\n",
    "    print( 'Source path = ',input_path, '; batch size =', batch_size)\n",
    "    imgsize_y=120\n",
    "    imgsize_z=120\n",
    "    img_idx = np.arange(1,30,2) \n",
    "    while True:\n",
    "        t = np.random.permutation(list_folders)\n",
    "        num_batches = len(list_folders)//batch_size\n",
    "        for batch in range(num_batches): # we iterate over the number of batches\n",
    "            batch_data = np.zeros((batch_size,len(img_idx),imgsize_y,imgsize_z,3)) # x is the number of images you use for each video, (y,z) is the final size of the input images and 3 is the number of channels RGB\n",
    "            batch_labels = np.zeros((batch_size,5)) # batch_labels is the one hot representation of the output\n",
    "            for folder in range(batch_size): # iterate over the batch_size\n",
    "                imgs = os.listdir(input_path+'/'+ t[folder + (batch*batch_size)].split(';')[0])\n",
    "                #imgs = os.listdir(input_path+'/'+ t[folder + (batch*batch_size)].split(';')[0]) # read all the images in the folder\n",
    "                for idx,item in enumerate(img_idx): #  Iterate iver the frames/images of a folder to read them in\n",
    "                    image = imread(input_path+'/'+ t[folder + (batch*batch_size)].strip().split(';')[0]+'/'+imgs[item]).astype(np.float32)\n",
    "                    \n",
    "                    #crop the images and resize them. Note that the images are of 2 different shape \n",
    "                    #and the conv3D will throw error if the inputs in a batch have different shapes\n",
    "                    \n",
    "                    image = resize(image, (imgsize_y,imgsize_z,3))\n",
    "                    image_channel_0 = image[:,:,0]\n",
    "                    image_channel_1 = image[:,:,1]\n",
    "                    image_channel_2 = image[:,:,2]\n",
    "                    batch_data[folder,idx,:,:,0] = (image_channel_0 - np.percentile(image_channel_0,5))/(np.percentile(image_channel_0,95) - np.percentile(image_channel_0,5))\n",
    "                    batch_data[folder,idx,:,:,1] = (image_channel_1 - np.percentile(image_channel_1,5))/(np.percentile(image_channel_1,95) - np.percentile(image_channel_1,5))\n",
    "                    batch_data[folder,idx,:,:,2] = (image_channel_2 - np.percentile(image_channel_2,5))/(np.percentile(image_channel_2,95) - np.percentile(image_channel_2,5))\n",
    "                    \n",
    "                batch_labels[folder, int(t[folder + (batch*batch_size)].strip().split(';')[2])] = 1\n",
    "            yield batch_data, batch_labels #you yield the batch_data and the batch_labels, remember what does yield do\n",
    "\n",
    "        \n",
    "        # write the code for the remaining data points which are left after full batches\n",
    "    remainig_image = len(list_folders) % batch_size\n",
    "    if remainig_image != 0:\n",
    "        \n",
    "            batch_size=remainig_image\n",
    "            batch_data = np.zeros((batch_size,len(img_idx),imgsize_y,imgsize_z,3))\n",
    "            batch_labels = np.zeros((batch_size,5))\n",
    "            for folder in range(batch_size):\n",
    "                imgs = os.listdir(input_path+'/'+ t[folder + (num_batches*batch_size)].split(';')[0])\n",
    "                for idx,item in enumerate(img_idx):\n",
    "                    image = imread(input_path+'/'+ t[folder + (num_batches*batch_size)].strip().split(';')[0]+'/'+imgs[item]).astype(np.float32)\n",
    "                    print(input_path+'/'+ t[folder + (num_batches*batch_size)].strip().split(';')[0]+'/'+imgs[item])\n",
    "                    \n",
    "                    image = resize(image, (imgsize_y,imgsize_z,3))\n",
    "                    image_channel_0 = image[:,:,0]\n",
    "                    image_channel_1 = image[:,:,1]\n",
    "                    image_channel_2 = image[:,:,2]\n",
    "                    batch_data[folder,idx,:,:,0] = image_channel_0 - np.percentile(image_channel_0,5)/ np.percentile(image_channel_0,95) - np.percentile(image_channel_0,5)\n",
    "                    batch_data[folder,idx,:,:,1] = image_channel_1 - np.percentile(image_channel_1,5)/ np.percentile(image_channel_1,95) - np.percentile(image_channel_1,5)\n",
    "                    batch_data[folder,idx,:,:,2] = image_channel_2 - np.percentile(image_channel_2,5)/ np.percentile(image_channel_2,95) - np.percentile(image_channel_2,5)\n",
    "                    \n",
    "\n",
    "                batch_labels[folder, int(t[folder + (num_batches*batch_size)].strip().split(';')[2])] = 1\n",
    "            yield batch_data, batch_labels"
   ]
  },
  {
   "cell_type": "markdown",
   "id": "fb3ee2a7",
   "metadata": {
    "papermill": {
     "duration": 0.022127,
     "end_time": "2022-05-16T17:10:16.286890",
     "exception": false,
     "start_time": "2022-05-16T17:10:16.264763",
     "status": "completed"
    },
    "tags": []
   },
   "source": [
    "Note here that a video is represented above in the generator as (number of images, height, width, number of channels). Take this into consideration while creating the model architecture."
   ]
  },
  {
   "cell_type": "code",
   "execution_count": 6,
   "id": "bfc08a2a",
   "metadata": {
    "execution": {
     "iopub.execute_input": "2022-05-16T17:10:16.331955Z",
     "iopub.status.busy": "2022-05-16T17:10:16.331708Z",
     "iopub.status.idle": "2022-05-16T17:10:16.339173Z",
     "shell.execute_reply": "2022-05-16T17:10:16.338237Z"
    },
    "papermill": {
     "duration": 0.034298,
     "end_time": "2022-05-16T17:10:16.343070",
     "exception": false,
     "start_time": "2022-05-16T17:10:16.308772",
     "status": "completed"
    },
    "tags": []
   },
   "outputs": [
    {
     "name": "stdout",
     "output_type": "stream",
     "text": [
      "# training sequences = 663\n",
      "# validation sequences = 100\n",
      "# epochs = 40\n"
     ]
    }
   ],
   "source": [
    "curr_dt_time = datetime.datetime.now()\n",
    "num_train_sequences = len(train_doc)\n",
    "print('# training sequences =', num_train_sequences)\n",
    "num_val_sequences = len(val_doc)\n",
    "print('# validation sequences =', num_val_sequences)\n",
    "num_epochs = 40\n",
    "print ('# epochs =', num_epochs)"
   ]
  },
  {
   "cell_type": "markdown",
   "id": "2bbfe680",
   "metadata": {
    "papermill": {
     "duration": 0.023212,
     "end_time": "2022-05-16T17:10:16.391512",
     "exception": false,
     "start_time": "2022-05-16T17:10:16.368300",
     "status": "completed"
    },
    "tags": []
   },
   "source": [
    "## Model\n",
    "Here you make the model using different functionalities that Keras provides. Remember to use `Conv3D` and `MaxPooling3D` and not `Conv2D` and `Maxpooling2D` for a 3D convolution model. You would want to use `TimeDistributed` while building a Conv2D + RNN model. Also remember that the last layer is the softmax. Design the network in such a way that the model is able to give good accuracy on the least number of parameters so that it can fit in the memory of the webcam."
   ]
  },
  {
   "cell_type": "code",
   "execution_count": 7,
   "id": "a770f981",
   "metadata": {
    "execution": {
     "iopub.execute_input": "2022-05-16T17:10:16.438931Z",
     "iopub.status.busy": "2022-05-16T17:10:16.438636Z",
     "iopub.status.idle": "2022-05-16T17:10:21.508117Z",
     "shell.execute_reply": "2022-05-16T17:10:21.507085Z"
    },
    "papermill": {
     "duration": 5.096084,
     "end_time": "2022-05-16T17:10:21.510866",
     "exception": false,
     "start_time": "2022-05-16T17:10:16.414782",
     "status": "completed"
    },
    "tags": []
   },
   "outputs": [
    {
     "name": "stderr",
     "output_type": "stream",
     "text": [
      "2022-05-16 17:10:16.953910: I tensorflow/stream_executor/cuda/cuda_gpu_executor.cc:937] successful NUMA node read from SysFS had negative value (-1), but there must be at least one NUMA node, so returning NUMA node zero\n",
      "2022-05-16 17:10:17.065745: I tensorflow/stream_executor/cuda/cuda_gpu_executor.cc:937] successful NUMA node read from SysFS had negative value (-1), but there must be at least one NUMA node, so returning NUMA node zero\n",
      "2022-05-16 17:10:17.066941: I tensorflow/stream_executor/cuda/cuda_gpu_executor.cc:937] successful NUMA node read from SysFS had negative value (-1), but there must be at least one NUMA node, so returning NUMA node zero\n",
      "2022-05-16 17:10:17.068476: I tensorflow/core/platform/cpu_feature_guard.cc:142] This TensorFlow binary is optimized with oneAPI Deep Neural Network Library (oneDNN) to use the following CPU instructions in performance-critical operations:  AVX2 FMA\n",
      "To enable them in other operations, rebuild TensorFlow with the appropriate compiler flags.\n",
      "2022-05-16 17:10:17.068849: I tensorflow/stream_executor/cuda/cuda_gpu_executor.cc:937] successful NUMA node read from SysFS had negative value (-1), but there must be at least one NUMA node, so returning NUMA node zero\n",
      "2022-05-16 17:10:17.069871: I tensorflow/stream_executor/cuda/cuda_gpu_executor.cc:937] successful NUMA node read from SysFS had negative value (-1), but there must be at least one NUMA node, so returning NUMA node zero\n",
      "2022-05-16 17:10:17.070956: I tensorflow/stream_executor/cuda/cuda_gpu_executor.cc:937] successful NUMA node read from SysFS had negative value (-1), but there must be at least one NUMA node, so returning NUMA node zero\n",
      "2022-05-16 17:10:19.809253: I tensorflow/stream_executor/cuda/cuda_gpu_executor.cc:937] successful NUMA node read from SysFS had negative value (-1), but there must be at least one NUMA node, so returning NUMA node zero\n",
      "2022-05-16 17:10:19.810560: I tensorflow/stream_executor/cuda/cuda_gpu_executor.cc:937] successful NUMA node read from SysFS had negative value (-1), but there must be at least one NUMA node, so returning NUMA node zero\n",
      "2022-05-16 17:10:19.812039: I tensorflow/stream_executor/cuda/cuda_gpu_executor.cc:937] successful NUMA node read from SysFS had negative value (-1), but there must be at least one NUMA node, so returning NUMA node zero\n",
      "2022-05-16 17:10:19.814741: I tensorflow/core/common_runtime/gpu/gpu_device.cc:1510] Created device /job:localhost/replica:0/task:0/device:GPU:0 with 15403 MB memory:  -> device: 0, name: Tesla P100-PCIE-16GB, pci bus id: 0000:00:04.0, compute capability: 6.0\n"
     ]
    },
    {
     "name": "stdout",
     "output_type": "stream",
     "text": [
      "Downloading data from https://storage.googleapis.com/tensorflow/keras-applications/mobilenet/mobilenet_1_0_224_tf_no_top.h5\n",
      "17227776/17225924 [==============================] - 0s 0us/step\n",
      "17235968/17225924 [==============================] - 0s 0us/step\n"
     ]
    }
   ],
   "source": [
    "from tensorflow.keras.models import Sequential, Model\n",
    "from tensorflow.keras.layers import Dense, GRU, Flatten, TimeDistributed, Flatten, BatchNormalization, Activation\n",
    "from tensorflow.keras.layers import Conv3D, MaxPooling3D, Conv2D, MaxPooling2D\n",
    "from tensorflow.keras.callbacks import ModelCheckpoint, ReduceLROnPlateau\n",
    "from tensorflow.keras import optimizers\n",
    "from tensorflow.keras.layers import Dense, Dropout, Flatten\n",
    "from tensorflow.keras.layers import LSTM\n",
    "from tensorflow.keras.applications import mobilenet\n",
    "import tensorflow as tf\n",
    "from tensorflow.keras import regularizers\n",
    "\n",
    "num_classes = 5\n",
    "\n",
    "# We are using transfer learning with Mobilenet network\n",
    "\n",
    "mobilenet_transfer = mobilenet.MobileNet(weights='imagenet', include_top=False)\n",
    "\n",
    "def get_model_mobile():\n",
    "    model = Sequential()\n",
    "    model.add(TimeDistributed(mobilenet_transfer,input_shape=(15, imagesize_y, imagesize_z, 3)))\n",
    "    model.add(TimeDistributed(BatchNormalization()))\n",
    "    model.add(TimeDistributed(MaxPooling2D((2, 2))))\n",
    "    model.add(TimeDistributed(Flatten()))\n",
    "    model.add(GRU(32, return_sequences = True))\n",
    "    model.add(Dropout(0.25))\n",
    "    model.add(GRU(64))\n",
    "    model.add(Dropout(0.25))\n",
    "    model.add(Dense(32,activation='relu',kernel_regularizer=regularizers.L2(0.01),activity_regularizer=regularizers.L2(0.01)))\n",
    "    model.add(Dropout(0.5))\n",
    "    model.add(Dense(num_classes, activation='softmax'))\n",
    "    return model"
   ]
  },
  {
   "cell_type": "markdown",
   "id": "c025f8e7",
   "metadata": {
    "papermill": {
     "duration": 0.02691,
     "end_time": "2022-05-16T17:10:21.563687",
     "exception": false,
     "start_time": "2022-05-16T17:10:21.536777",
     "status": "completed"
    },
    "tags": []
   },
   "source": [
    "Now that you have written the model, the next step is to `compile` the model. When you print the `summary` of the model, you'll see the total number of parameters you have to train."
   ]
  },
  {
   "cell_type": "code",
   "execution_count": 8,
   "id": "4b8e2fb4",
   "metadata": {
    "execution": {
     "iopub.execute_input": "2022-05-16T17:10:21.617162Z",
     "iopub.status.busy": "2022-05-16T17:10:21.616902Z",
     "iopub.status.idle": "2022-05-16T17:10:22.589432Z",
     "shell.execute_reply": "2022-05-16T17:10:22.588457Z"
    },
    "papermill": {
     "duration": 1.002791,
     "end_time": "2022-05-16T17:10:22.592638",
     "exception": false,
     "start_time": "2022-05-16T17:10:21.589847",
     "status": "completed"
    },
    "tags": []
   },
   "outputs": [
    {
     "name": "stdout",
     "output_type": "stream",
     "text": [
      "Model: \"sequential\"\n",
      "_________________________________________________________________\n",
      "Layer (type)                 Output Shape              Param #   \n",
      "=================================================================\n",
      "time_distributed (TimeDistri (None, 15, 3, 3, 1024)    3228864   \n",
      "_________________________________________________________________\n",
      "time_distributed_1 (TimeDist (None, 15, 3, 3, 1024)    4096      \n",
      "_________________________________________________________________\n",
      "time_distributed_2 (TimeDist (None, 15, 1, 1, 1024)    0         \n",
      "_________________________________________________________________\n",
      "time_distributed_3 (TimeDist (None, 15, 1024)          0         \n",
      "_________________________________________________________________\n",
      "gru (GRU)                    (None, 15, 32)            101568    \n",
      "_________________________________________________________________\n",
      "dropout (Dropout)            (None, 15, 32)            0         \n",
      "_________________________________________________________________\n",
      "gru_1 (GRU)                  (None, 64)                18816     \n",
      "_________________________________________________________________\n",
      "dropout_1 (Dropout)          (None, 64)                0         \n",
      "_________________________________________________________________\n",
      "dense (Dense)                (None, 32)                2080      \n",
      "_________________________________________________________________\n",
      "dropout_2 (Dropout)          (None, 32)                0         \n",
      "_________________________________________________________________\n",
      "dense_1 (Dense)              (None, 5)                 165       \n",
      "=================================================================\n",
      "Total params: 3,355,589\n",
      "Trainable params: 3,331,653\n",
      "Non-trainable params: 23,936\n",
      "_________________________________________________________________\n"
     ]
    }
   ],
   "source": [
    "# Get the model\n",
    "model = get_model_mobile()\n",
    "\n",
    "# compile it\n",
    "model.compile(loss='categorical_crossentropy', optimizer=tf.keras.optimizers.Adam(learning_rate = 0.0004), metrics=['categorical_accuracy'])\n",
    "\n",
    "# summary of model\n",
    "model.summary()"
   ]
  },
  {
   "cell_type": "markdown",
   "id": "f59e6c9e",
   "metadata": {
    "papermill": {
     "duration": 0.024953,
     "end_time": "2022-05-16T17:10:22.643717",
     "exception": false,
     "start_time": "2022-05-16T17:10:22.618764",
     "status": "completed"
    },
    "tags": []
   },
   "source": [
    "Let us create the `train_generator` and the `val_generator` which will be used in `.fit_generator`."
   ]
  },
  {
   "cell_type": "code",
   "execution_count": 9,
   "id": "8c80e66e",
   "metadata": {
    "execution": {
     "iopub.execute_input": "2022-05-16T17:10:22.695315Z",
     "iopub.status.busy": "2022-05-16T17:10:22.695092Z",
     "iopub.status.idle": "2022-05-16T17:10:23.840721Z",
     "shell.execute_reply": "2022-05-16T17:10:23.839713Z"
    },
    "papermill": {
     "duration": 1.174221,
     "end_time": "2022-05-16T17:10:23.843148",
     "exception": false,
     "start_time": "2022-05-16T17:10:22.668927",
     "status": "completed"
    },
    "tags": []
   },
   "outputs": [
    {
     "data": {
      "image/png": "[encoded data removed]",
      "text/plain": [
       "<IPython.core.display.Image object>"
      ]
     },
     "execution_count": 9,
     "metadata": {},
     "output_type": "execute_result"
    }
   ],
   "source": [
    "tf.keras.utils.plot_model(\n",
    "    model,\n",
    "    to_file=\"model.png\")"
   ]
  },
  {
   "cell_type": "code",
   "execution_count": 10,
   "id": "e5d9d2ca",
   "metadata": {
    "execution": {
     "iopub.execute_input": "2022-05-16T17:10:23.906674Z",
     "iopub.status.busy": "2022-05-16T17:10:23.906360Z",
     "iopub.status.idle": "2022-05-16T17:10:23.912202Z",
     "shell.execute_reply": "2022-05-16T17:10:23.911172Z"
    },
    "papermill": {
     "duration": 0.043205,
     "end_time": "2022-05-16T17:10:23.914636",
     "exception": false,
     "start_time": "2022-05-16T17:10:23.871431",
     "status": "completed"
    },
    "tags": []
   },
   "outputs": [],
   "source": [
    "train_generator = generator(train_path, train_doc, batch_size)\n",
    "val_generator = generator(val_path, val_doc, batch_size)"
   ]
  },
  {
   "cell_type": "code",
   "execution_count": 11,
   "id": "e18c1207",
   "metadata": {
    "execution": {
     "iopub.execute_input": "2022-05-16T17:10:23.969677Z",
     "iopub.status.busy": "2022-05-16T17:10:23.969418Z",
     "iopub.status.idle": "2022-05-16T17:10:23.977284Z",
     "shell.execute_reply": "2022-05-16T17:10:23.976335Z"
    },
    "papermill": {
     "duration": 0.038099,
     "end_time": "2022-05-16T17:10:23.979449",
     "exception": false,
     "start_time": "2022-05-16T17:10:23.941350",
     "status": "completed"
    },
    "tags": []
   },
   "outputs": [],
   "source": [
    "model_name = 'model_init' + '_' + str(curr_dt_time).replace(' ','').replace(':','_') + '/'\n",
    "    \n",
    "if not os.path.exists(model_name):\n",
    "    os.mkdir(model_name)\n",
    "        \n",
    "filepath = model_name + 'model-{epoch:05d}-{loss:.5f}-{categorical_accuracy:.5f}-{val_loss:.5f}-{val_categorical_accuracy:.5f}.h5'\n",
    "\n",
    "checkpoint = ModelCheckpoint(filepath, monitor='val_categorical_accuracy', verbose=1, save_best_only=True, save_weights_only=False, mode='auto', period=1)\n",
    "\n",
    "LR = ReduceLROnPlateau(monitor='val_accuracy', factor=0.2,\n",
    "                              patience=5, min_lr=0.0001)\n",
    "callbacks_list = [checkpoint, LR]"
   ]
  },
  {
   "cell_type": "markdown",
   "id": "f921d8b9",
   "metadata": {
    "papermill": {
     "duration": 0.02651,
     "end_time": "2022-05-16T17:10:24.032869",
     "exception": false,
     "start_time": "2022-05-16T17:10:24.006359",
     "status": "completed"
    },
    "tags": []
   },
   "source": [
    "The `steps_per_epoch` and `validation_steps` are used by `fit_generator` to decide the number of next() calls it need to make."
   ]
  },
  {
   "cell_type": "code",
   "execution_count": 12,
   "id": "ea8c0efe",
   "metadata": {
    "execution": {
     "iopub.execute_input": "2022-05-16T17:10:24.087862Z",
     "iopub.status.busy": "2022-05-16T17:10:24.087576Z",
     "iopub.status.idle": "2022-05-16T17:10:24.093234Z",
     "shell.execute_reply": "2022-05-16T17:10:24.092230Z"
    },
    "papermill": {
     "duration": 0.035897,
     "end_time": "2022-05-16T17:10:24.095311",
     "exception": false,
     "start_time": "2022-05-16T17:10:24.059414",
     "status": "completed"
    },
    "tags": []
   },
   "outputs": [],
   "source": [
    "if (num_train_sequences%batch_size) == 0:\n",
    "    steps_per_epoch = int(num_train_sequences/batch_size)\n",
    "else:\n",
    "    steps_per_epoch = (num_train_sequences//batch_size) + 1\n",
    "\n",
    "if (num_val_sequences%batch_size) == 0:\n",
    "    validation_steps = int(num_val_sequences/batch_size)\n",
    "else:\n",
    "    validation_steps = (num_val_sequences//batch_size) + 1"
   ]
  },
  {
   "cell_type": "markdown",
   "id": "edd5340b",
   "metadata": {
    "papermill": {
     "duration": 0.02695,
     "end_time": "2022-05-16T17:10:24.149117",
     "exception": false,
     "start_time": "2022-05-16T17:10:24.122167",
     "status": "completed"
    },
    "tags": []
   },
   "source": [
    "Let us now fit the model. This will start training the model and with the help of the checkpoints, you'll be able to save the model at the end of each epoch."
   ]
  },
  {
   "cell_type": "code",
   "execution_count": 13,
   "id": "6e5e9127",
   "metadata": {
    "execution": {
     "iopub.execute_input": "2022-05-16T17:10:24.202938Z",
     "iopub.status.busy": "2022-05-16T17:10:24.202364Z",
     "iopub.status.idle": "2022-05-16T18:58:55.003930Z",
     "shell.execute_reply": "2022-05-16T18:58:55.002743Z"
    },
    "papermill": {
     "duration": 6511.156493,
     "end_time": "2022-05-16T18:58:55.331769",
     "exception": false,
     "start_time": "2022-05-16T17:10:24.175276",
     "status": "completed"
    },
    "tags": []
   },
   "outputs": [
    {
     "name": "stderr",
     "output_type": "stream",
     "text": [
      "/opt/conda/lib/python3.7/site-packages/keras/engine/training.py:1972: UserWarning: `Model.fit_generator` is deprecated and will be removed in a future version. Please use `Model.fit`, which supports generators.\n",
      "  warnings.warn('`Model.fit_generator` is deprecated and '\n"
     ]
    },
    {
     "name": "stdout",
     "output_type": "stream",
     "text": [
      "Source path =  ../input/gesture-detection/Project_data/train ; batch size = 40\n"
     ]
    },
    {
     "name": "stderr",
     "output_type": "stream",
     "text": [
      "2022-05-16 17:10:35.620254: I tensorflow/compiler/mlir/mlir_graph_optimization_pass.cc:185] None of the MLIR Optimization Passes are enabled (registered 2)\n"
     ]
    },
    {
     "name": "stdout",
     "output_type": "stream",
     "text": [
      "Epoch 1/40\n"
     ]
    },
    {
     "name": "stderr",
     "output_type": "stream",
     "text": [
      "2022-05-16 17:10:43.358864: I tensorflow/stream_executor/cuda/cuda_dnn.cc:369] Loaded cuDNN version 8005\n"
     ]
    },
    {
     "name": "stdout",
     "output_type": "stream",
     "text": [
      "17/17 [==============================] - ETA: 0s - loss: 2.0092 - categorical_accuracy: 0.2721 Source path =  ../input/gesture-detection/Project_data/val ; batch size = 40\n",
      "17/17 [==============================] - 234s 14s/step - loss: 2.0092 - categorical_accuracy: 0.2721 - val_loss: 1.8408 - val_categorical_accuracy: 0.5000\n",
      "\n",
      "Epoch 00001: val_categorical_accuracy improved from -inf to 0.50000, saving model to model_init_2022-05-1617_10_16.333764/model-00001-2.00922-0.27206-1.84084-0.50000.h5\n",
      "Epoch 2/40\n",
      "17/17 [==============================] - 163s 10s/step - loss: 1.7624 - categorical_accuracy: 0.4721 - val_loss: 1.7700 - val_categorical_accuracy: 0.5417\n",
      "\n",
      "Epoch 00002: val_categorical_accuracy improved from 0.50000 to 0.54167, saving model to model_init_2022-05-1617_10_16.333764/model-00002-1.76238-0.47206-1.76997-0.54167.h5\n",
      "Epoch 3/40\n",
      "17/17 [==============================] - 161s 10s/step - loss: 1.5252 - categorical_accuracy: 0.6338 - val_loss: 1.5185 - val_categorical_accuracy: 0.7083\n",
      "\n",
      "Epoch 00003: val_categorical_accuracy improved from 0.54167 to 0.70833, saving model to model_init_2022-05-1617_10_16.333764/model-00003-1.52521-0.63382-1.51850-0.70833.h5\n",
      "Epoch 4/40\n",
      "17/17 [==============================] - 160s 10s/step - loss: 1.2803 - categorical_accuracy: 0.7632 - val_loss: 1.3031 - val_categorical_accuracy: 0.7417\n",
      "\n",
      "Epoch 00004: val_categorical_accuracy improved from 0.70833 to 0.74167, saving model to model_init_2022-05-1617_10_16.333764/model-00004-1.28034-0.76324-1.30311-0.74167.h5\n",
      "Epoch 5/40\n",
      "17/17 [==============================] - 161s 10s/step - loss: 1.1155 - categorical_accuracy: 0.8559 - val_loss: 1.1271 - val_categorical_accuracy: 0.8417\n",
      "\n",
      "Epoch 00005: val_categorical_accuracy improved from 0.74167 to 0.84167, saving model to model_init_2022-05-1617_10_16.333764/model-00005-1.11552-0.85588-1.12713-0.84167.h5\n",
      "Epoch 6/40\n",
      "17/17 [==============================] - 157s 10s/step - loss: 1.0000 - categorical_accuracy: 0.8897 - val_loss: 0.9896 - val_categorical_accuracy: 0.8500\n",
      "\n",
      "Epoch 00006: val_categorical_accuracy improved from 0.84167 to 0.85000, saving model to model_init_2022-05-1617_10_16.333764/model-00006-0.99999-0.88971-0.98965-0.85000.h5\n",
      "Epoch 7/40\n",
      "17/17 [==============================] - 156s 10s/step - loss: 0.8589 - categorical_accuracy: 0.9574 - val_loss: 1.0086 - val_categorical_accuracy: 0.8417\n",
      "\n",
      "Epoch 00007: val_categorical_accuracy did not improve from 0.85000\n",
      "Epoch 8/40\n",
      "17/17 [==============================] - 161s 10s/step - loss: 0.8353 - categorical_accuracy: 0.9676 - val_loss: 1.0303 - val_categorical_accuracy: 0.8500\n",
      "\n",
      "Epoch 00008: val_categorical_accuracy did not improve from 0.85000\n",
      "Epoch 9/40\n",
      "17/17 [==============================] - 157s 10s/step - loss: 0.7917 - categorical_accuracy: 0.9706 - val_loss: 0.9322 - val_categorical_accuracy: 0.8583\n",
      "\n",
      "Epoch 00009: val_categorical_accuracy improved from 0.85000 to 0.85833, saving model to model_init_2022-05-1617_10_16.333764/model-00009-0.79173-0.97059-0.93224-0.85833.h5\n",
      "Epoch 10/40\n",
      "17/17 [==============================] - 158s 10s/step - loss: 0.7639 - categorical_accuracy: 0.9779 - val_loss: 0.9059 - val_categorical_accuracy: 0.9000\n",
      "\n",
      "Epoch 00010: val_categorical_accuracy improved from 0.85833 to 0.90000, saving model to model_init_2022-05-1617_10_16.333764/model-00010-0.76387-0.97794-0.90590-0.90000.h5\n",
      "Epoch 11/40\n",
      "17/17 [==============================] - 161s 10s/step - loss: 0.7528 - categorical_accuracy: 0.9706 - val_loss: 0.9116 - val_categorical_accuracy: 0.8750\n",
      "\n",
      "Epoch 00011: val_categorical_accuracy did not improve from 0.90000\n",
      "Epoch 12/40\n",
      "17/17 [==============================] - 159s 10s/step - loss: 0.7341 - categorical_accuracy: 0.9794 - val_loss: 1.0160 - val_categorical_accuracy: 0.8333\n",
      "\n",
      "Epoch 00012: val_categorical_accuracy did not improve from 0.90000\n",
      "Epoch 13/40\n",
      "17/17 [==============================] - 158s 10s/step - loss: 0.6949 - categorical_accuracy: 0.9853 - val_loss: 0.9427 - val_categorical_accuracy: 0.8750\n",
      "\n",
      "Epoch 00013: val_categorical_accuracy did not improve from 0.90000\n",
      "Epoch 14/40\n",
      "17/17 [==============================] - 160s 10s/step - loss: 0.6868 - categorical_accuracy: 0.9868 - val_loss: 0.9438 - val_categorical_accuracy: 0.8583\n",
      "\n",
      "Epoch 00014: val_categorical_accuracy did not improve from 0.90000\n",
      "Epoch 15/40\n",
      "17/17 [==============================] - 160s 10s/step - loss: 0.6497 - categorical_accuracy: 0.9882 - val_loss: 1.0017 - val_categorical_accuracy: 0.8083\n",
      "\n",
      "Epoch 00015: val_categorical_accuracy did not improve from 0.90000\n",
      "Epoch 16/40\n",
      "17/17 [==============================] - 162s 10s/step - loss: 0.6404 - categorical_accuracy: 0.9809 - val_loss: 0.8719 - val_categorical_accuracy: 0.8333\n",
      "\n",
      "Epoch 00016: val_categorical_accuracy did not improve from 0.90000\n",
      "Epoch 17/40\n",
      "17/17 [==============================] - 166s 10s/step - loss: 0.6243 - categorical_accuracy: 0.9882 - val_loss: 0.6926 - val_categorical_accuracy: 0.9167\n",
      "\n",
      "Epoch 00017: val_categorical_accuracy improved from 0.90000 to 0.91667, saving model to model_init_2022-05-1617_10_16.333764/model-00017-0.62433-0.98824-0.69259-0.91667.h5\n",
      "Epoch 18/40\n",
      "17/17 [==============================] - 164s 10s/step - loss: 0.5963 - categorical_accuracy: 0.9956 - val_loss: 0.7114 - val_categorical_accuracy: 0.9000\n",
      "\n",
      "Epoch 00018: val_categorical_accuracy did not improve from 0.91667\n",
      "Epoch 19/40\n",
      "17/17 [==============================] - 164s 10s/step - loss: 0.5888 - categorical_accuracy: 0.9868 - val_loss: 0.6839 - val_categorical_accuracy: 0.8750\n",
      "\n",
      "Epoch 00019: val_categorical_accuracy did not improve from 0.91667\n",
      "Epoch 20/40\n",
      "17/17 [==============================] - 166s 10s/step - loss: 0.5765 - categorical_accuracy: 0.9853 - val_loss: 0.5945 - val_categorical_accuracy: 0.9167\n",
      "\n",
      "Epoch 00020: val_categorical_accuracy did not improve from 0.91667\n",
      "Epoch 21/40\n",
      "17/17 [==============================] - 168s 10s/step - loss: 0.5445 - categorical_accuracy: 0.9868 - val_loss: 0.6441 - val_categorical_accuracy: 0.9167\n",
      "\n",
      "Epoch 00021: val_categorical_accuracy did not improve from 0.91667\n",
      "Epoch 22/40\n",
      "17/17 [==============================] - 165s 10s/step - loss: 0.5369 - categorical_accuracy: 0.9897 - val_loss: 0.6325 - val_categorical_accuracy: 0.9000\n",
      "\n",
      "Epoch 00022: val_categorical_accuracy did not improve from 0.91667\n",
      "Epoch 23/40\n",
      "17/17 [==============================] - 159s 10s/step - loss: 0.5435 - categorical_accuracy: 0.9824 - val_loss: 0.5590 - val_categorical_accuracy: 0.9500\n",
      "\n",
      "Epoch 00023: val_categorical_accuracy improved from 0.91667 to 0.95000, saving model to model_init_2022-05-1617_10_16.333764/model-00023-0.54348-0.98235-0.55897-0.95000.h5\n",
      "Epoch 24/40\n",
      "17/17 [==============================] - 159s 10s/step - loss: 0.5063 - categorical_accuracy: 0.9868 - val_loss: 0.6433 - val_categorical_accuracy: 0.9167\n",
      "\n",
      "Epoch 00024: val_categorical_accuracy did not improve from 0.95000\n",
      "Epoch 25/40\n",
      "17/17 [==============================] - 163s 10s/step - loss: 0.4922 - categorical_accuracy: 0.9956 - val_loss: 0.5864 - val_categorical_accuracy: 0.9167\n",
      "\n",
      "Epoch 00025: val_categorical_accuracy did not improve from 0.95000\n",
      "Epoch 26/40\n",
      "17/17 [==============================] - 160s 10s/step - loss: 0.4631 - categorical_accuracy: 0.9971 - val_loss: 0.6084 - val_categorical_accuracy: 0.9083\n",
      "\n",
      "Epoch 00026: val_categorical_accuracy did not improve from 0.95000\n",
      "Epoch 27/40\n",
      "17/17 [==============================] - 161s 10s/step - loss: 0.4763 - categorical_accuracy: 0.9882 - val_loss: 0.5627 - val_categorical_accuracy: 0.9250\n",
      "\n",
      "Epoch 00027: val_categorical_accuracy did not improve from 0.95000\n",
      "Epoch 28/40\n",
      "17/17 [==============================] - 159s 10s/step - loss: 0.4601 - categorical_accuracy: 0.9956 - val_loss: 0.6768 - val_categorical_accuracy: 0.8750\n",
      "\n",
      "Epoch 00028: val_categorical_accuracy did not improve from 0.95000\n",
      "Epoch 29/40\n",
      "17/17 [==============================] - 160s 10s/step - loss: 0.4374 - categorical_accuracy: 0.9985 - val_loss: 0.6372 - val_categorical_accuracy: 0.8833\n",
      "\n",
      "Epoch 00029: val_categorical_accuracy did not improve from 0.95000\n",
      "Epoch 30/40\n",
      "17/17 [==============================] - 160s 10s/step - loss: 0.4294 - categorical_accuracy: 0.9897 - val_loss: 0.5853 - val_categorical_accuracy: 0.9083\n",
      "\n",
      "Epoch 00030: val_categorical_accuracy did not improve from 0.95000\n",
      "Epoch 31/40\n",
      "17/17 [==============================] - 161s 10s/step - loss: 0.4185 - categorical_accuracy: 0.9897 - val_loss: 0.6001 - val_categorical_accuracy: 0.8917\n",
      "\n",
      "Epoch 00031: val_categorical_accuracy did not improve from 0.95000\n",
      "Epoch 32/40\n",
      "17/17 [==============================] - 161s 10s/step - loss: 0.4081 - categorical_accuracy: 0.9956 - val_loss: 0.5695 - val_categorical_accuracy: 0.9083\n",
      "\n",
      "Epoch 00032: val_categorical_accuracy did not improve from 0.95000\n",
      "Epoch 33/40\n",
      "17/17 [==============================] - 154s 10s/step - loss: 0.4001 - categorical_accuracy: 0.9941 - val_loss: 0.5008 - val_categorical_accuracy: 0.9583\n",
      "\n",
      "Epoch 00033: val_categorical_accuracy improved from 0.95000 to 0.95833, saving model to model_init_2022-05-1617_10_16.333764/model-00033-0.40007-0.99412-0.50079-0.95833.h5\n",
      "Epoch 34/40\n",
      "17/17 [==============================] - 157s 10s/step - loss: 0.4030 - categorical_accuracy: 0.9926 - val_loss: 0.5874 - val_categorical_accuracy: 0.9000\n",
      "\n",
      "Epoch 00034: val_categorical_accuracy did not improve from 0.95833\n",
      "Epoch 35/40\n",
      "17/17 [==============================] - 156s 10s/step - loss: 0.3922 - categorical_accuracy: 0.9926 - val_loss: 0.5175 - val_categorical_accuracy: 0.9250\n",
      "\n",
      "Epoch 00035: val_categorical_accuracy did not improve from 0.95833\n",
      "Epoch 36/40\n",
      "17/17 [==============================] - 161s 10s/step - loss: 0.3788 - categorical_accuracy: 1.0000 - val_loss: 0.5764 - val_categorical_accuracy: 0.9250\n",
      "\n",
      "Epoch 00036: val_categorical_accuracy did not improve from 0.95833\n",
      "Epoch 37/40\n",
      "17/17 [==============================] - 157s 10s/step - loss: 0.3654 - categorical_accuracy: 0.9971 - val_loss: 0.5344 - val_categorical_accuracy: 0.9083\n",
      "\n",
      "Epoch 00037: val_categorical_accuracy did not improve from 0.95833\n",
      "Epoch 38/40\n",
      "17/17 [==============================] - 163s 10s/step - loss: 0.3702 - categorical_accuracy: 0.9971 - val_loss: 0.5536 - val_categorical_accuracy: 0.9083\n",
      "\n",
      "Epoch 00038: val_categorical_accuracy did not improve from 0.95833\n",
      "Epoch 39/40\n",
      "17/17 [==============================] - 160s 10s/step - loss: 0.3479 - categorical_accuracy: 0.9956 - val_loss: 0.5184 - val_categorical_accuracy: 0.9000\n",
      "\n",
      "Epoch 00039: val_categorical_accuracy did not improve from 0.95833\n",
      "Epoch 40/40\n",
      "17/17 [==============================] - 160s 10s/step - loss: 0.3468 - categorical_accuracy: 0.9941 - val_loss: 0.4533 - val_categorical_accuracy: 0.9500\n",
      "\n",
      "Epoch 00040: val_categorical_accuracy did not improve from 0.95833\n"
     ]
    }
   ],
   "source": [
    "history = model.fit_generator(train_generator, steps_per_epoch=steps_per_epoch, epochs=num_epochs, verbose=1, \n",
    "                    callbacks=callbacks_list, validation_data=val_generator, \n",
    "                    validation_steps=validation_steps, class_weight=None, workers=1, initial_epoch=0)"
   ]
  },
  {
   "cell_type": "code",
   "execution_count": 14,
   "id": "eff3ea0b",
   "metadata": {
    "execution": {
     "iopub.execute_input": "2022-05-16T18:58:56.008403Z",
     "iopub.status.busy": "2022-05-16T18:58:56.008090Z",
     "iopub.status.idle": "2022-05-16T18:58:56.449701Z",
     "shell.execute_reply": "2022-05-16T18:58:56.448743Z"
    },
    "papermill": {
     "duration": 0.779145,
     "end_time": "2022-05-16T18:58:56.452126",
     "exception": false,
     "start_time": "2022-05-16T18:58:55.672981",
     "status": "completed"
    },
    "tags": []
   },
   "outputs": [
    {
     "data": {
      "image/png": "[encoded data removed]",
      "text/plain": [
       "<Figure size 1152x576 with 2 Axes>"
      ]
     },
     "metadata": {
      "needs_background": "light"
     },
     "output_type": "display_data"
    }
   ],
   "source": [
    "# Plotting Training & validation accuracy/losses\n",
    "\n",
    "acc = history.history['categorical_accuracy']\n",
    "val_acc = history.history['val_categorical_accuracy']\n",
    "loss = history.history['loss']\n",
    "val_loss = history.history['val_loss']\n",
    "epochs_range = range(num_epochs)\n",
    "plt.figure(figsize=(16, 8))\n",
    "plt.subplot(1, 2, 1)\n",
    "plt.plot(epochs_range, acc, label='Training Accuracy')\n",
    "plt.plot(epochs_range, val_acc, label='Validation Accuracy')\n",
    "plt.legend(loc='lower right')\n",
    "plt.title('Training and Validation Accuracy')\n",
    "plt.subplot(1, 2, 2)\n",
    "plt.plot(epochs_range, loss, label='Training Loss')\n",
    "plt.plot(epochs_range, val_loss, label='Validation Loss')\n",
    "plt.legend(loc='upper right')\n",
    "plt.title('Training and Validation Loss')\n",
    "plt.show()"
   ]
  }
 ],
 "metadata": {
  "kernelspec": {
   "display_name": "Python 3",
   "language": "python",
   "name": "python3"
  },
  "language_info": {
   "codemirror_mode": {
    "name": "ipython",
    "version": 3
   },
   "file_extension": ".py",
   "mimetype": "text/x-python",
   "name": "python",
   "nbconvert_exporter": "python",
   "pygments_lexer": "ipython3",
   "version": "3.7.12"
  },
  "papermill": {
   "default_parameters": {},
   "duration": 6541.971814,
   "end_time": "2022-05-16T18:59:00.619167",
   "environment_variables": {},
   "exception": null,
   "input_path": "__notebook__.ipynb",
   "output_path": "__notebook__.ipynb",
   "parameters": {},
   "start_time": "2022-05-16T17:09:58.647353",
   "version": "2.3.4"
  }
 },
 "nbformat": 4,
 "nbformat_minor": 5
}
